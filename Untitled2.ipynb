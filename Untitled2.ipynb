{
 "cells": [
  {
   "cell_type": "code",
   "execution_count": 3,
   "metadata": {},
   "outputs": [
    {
     "name": "stdout",
     "output_type": "stream",
     "text": [
      "[2.69, 378.66, 123.5, 69.99, 3.67, 4.99, 40.8, 93.2, 3.68, 7.8, 9.99, 121.5, 27.5, 58.8, 15.99, 12.99, 0.89, 46.8, 5.0]\n"
     ]
    }
   ],
   "source": [
    "import numpy as np\n",
    "import math\n",
    "import csv\n",
    "import random\n",
    "import matplotlib.pyplot as plt\n",
    "\n",
    "data = []\n",
    "i = 0\n",
    "\n",
    "with open('creditcard.csv', \"rt\") as filereader:\n",
    "    fil = csv.reader(filereader, delimiter= ' ' )\n",
    "\n",
    "    for rows in fil:\n",
    "        i+=1\n",
    "        data.append(rows)\n",
    "\n",
    "formated_data = []\n",
    "for da in data[1:]:\n",
    "    # if(i == 207):\n",
    "    #     break\n",
    "    # i+=1\n",
    "    da = da[0]\n",
    "    da = da.split(\",\")\n",
    "    data_new = []\n",
    "    j = 0\n",
    "    for x in da:\n",
    "        j += 1\n",
    "        data_new.append(float(x))\n",
    "        if(j == 30):\n",
    "            break\n",
    "    data_new.append(int(da[-1][1]))\n",
    "    formated_data.append(data_new)\n",
    "\n",
    "\n",
    "cols = len(formated_data[0])\n",
    "\n",
    "amount = []\n",
    "for x in formated_data:\n",
    "    amount.append(x[29])\n",
    "print(amount[1 : 20])\n"
   ]
  }
 ],
 "metadata": {
  "kernelspec": {
   "display_name": "Python 3",
   "language": "python",
   "name": "python3"
  },
  "language_info": {
   "codemirror_mode": {
    "name": "ipython",
    "version": 3
   },
   "file_extension": ".py",
   "mimetype": "text/x-python",
   "name": "python",
   "nbconvert_exporter": "python",
   "pygments_lexer": "ipython3",
   "version": "3.7.1"
  }
 },
 "nbformat": 4,
 "nbformat_minor": 2
}
