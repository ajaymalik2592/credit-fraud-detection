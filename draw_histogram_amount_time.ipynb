{
 "cells": [
  {
   "cell_type": "code",
   "execution_count": 14,
   "metadata": {},
   "outputs": [
    {
     "name": "stdout",
     "output_type": "stream",
     "text": [
      "25691.16\n",
      "2125.87\n"
     ]
    },
    {
     "data": {
      "image/png": "[encoded data removed]",
      "text/plain": [
       "<Figure size 432x288 with 1 Axes>"
      ]
     },
     "metadata": {
      "needs_background": "light"
     },
     "output_type": "display_data"
    },
    {
     "data": {
      "image/png": "[encoded data removed]",
      "text/plain": [
       "<Figure size 432x288 with 1 Axes>"
      ]
     },
     "metadata": {
      "needs_background": "light"
     },
     "output_type": "display_data"
    }
   ],
   "source": [
    "import numpy as np\n",
    "import math\n",
    "import csv\n",
    "import random\n",
    "import matplotlib.pyplot as plt\n",
    "\n",
    "data = []\n",
    "i = 0\n",
    "\n",
    "with open('creditcard.csv', \"rt\") as filereader:\n",
    "    fil = csv.reader(filereader, delimiter= ' ' )\n",
    "\n",
    "    for rows in fil:\n",
    "        i+=1\n",
    "        data.append(rows)\n",
    "\n",
    "formated_data = []\n",
    "for da in data[1:]:\n",
    "    # if(i == 207):\n",
    "    #     break\n",
    "    # i+=1\n",
    "    da = da[0]\n",
    "    da = da.split(\",\")\n",
    "    data_new = []\n",
    "    j = 0\n",
    "    for x in da:\n",
    "        j += 1\n",
    "        data_new.append(float(x))\n",
    "        if(j == 30):\n",
    "            break\n",
    "    data_new.append(int(da[-1][1]))\n",
    "    formated_data.append(data_new)\n",
    "\n",
    "\n",
    "cols = len(formated_data[0])\n",
    "\n",
    "amount, amount1 = [], []\n",
    "for x in formated_data:\n",
    "    if(x[-1] == 0 ):\n",
    "        amount.append(x[29])\n",
    "    else : amount1.append(x[29])\n",
    "\n",
    "print(amount)\n",
    "print(max(amount1))\n",
    "gif = plt.gcf()\n",
    "plt.hist(amount)\n",
    "plt.show()\n",
    "gif.savefig(\"amount_normal.png\")\n",
    "\n",
    "gif = plt.gcf()\n",
    "plt.hist(amount1)\n",
    "plt.show()\n",
    "gif.savefig(\"amount_fraud.png\")\n",
    "\n",
    "# gif = plt.gcf()\n",
    "# amount = []\n",
    "# for x in formated_data:\n",
    "#     amount.append(x[20])\n",
    "# gif = plt.gcf()\n",
    "# plt.hist(amount)\n",
    "# plt.show()\n",
    "# gif.savefig(\"time.png\")"
   ]
  }
 ],
 "metadata": {
  "kernelspec": {
   "display_name": "Python 3",
   "language": "python",
   "name": "python3"
  },
  "language_info": {
   "codemirror_mode": {
    "name": "ipython",
    "version": 3
   },
   "file_extension": ".py",
   "mimetype": "text/x-python",
   "name": "python",
   "nbconvert_exporter": "python",
   "pygments_lexer": "ipython3",
   "version": "3.7.1"
  }
 },
 "nbformat": 4,
 "nbformat_minor": 2
}
